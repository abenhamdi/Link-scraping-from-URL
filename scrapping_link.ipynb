{
 "cells": [
  {
   "cell_type": "code",
   "execution_count": 1,
   "metadata": {},
   "outputs": [
    {
     "name": "stdout",
     "output_type": "stream",
     "text": [
      "- Finish importing packages\n"
     ]
    }
   ],
   "source": [
    "# Import libraries and packages for the project \n",
    "\n",
    "from selenium import webdriver\n",
    "from selenium.webdriver.common.keys import Keys\n",
    "from selenium.webdriver.common.by import By\n",
    "from selenium.webdriver.support.ui import WebDriverWait\n",
    "from selenium.webdriver.support import expected_conditions as EC\n",
    "from bs4 import BeautifulSoup\n",
    "from time import sleep\n",
    "#from linkedin_scraper import Person, Compagny, actions\n",
    "import csv\n",
    "\n",
    "print('- Finish importing packages')"
   ]
  },
  {
   "cell_type": "code",
   "execution_count": 2,
   "metadata": {},
   "outputs": [
    {
     "name": "stdout",
     "output_type": "stream",
     "text": [
      "- Finish initializing a driver\n"
     ]
    }
   ],
   "source": [
    "driver = webdriver.Chrome()\n",
    "sleep(2)\n",
    "url = 'https://www.linkedin.com/login'\n",
    "driver.get(url)\n",
    "print('- Finish initializing a driver')\n",
    "sleep(2)"
   ]
  },
  {
   "cell_type": "code",
   "execution_count": 3,
   "metadata": {},
   "outputs": [
    {
     "name": "stdout",
     "output_type": "stream",
     "text": [
      "- Finish importing the login credentials\n"
     ]
    }
   ],
   "source": [
    "# Task 1.2: Import username and password\n",
    "credential = open('linkedin pages/credentials.txt')\n",
    "line = credential.readlines()\n",
    "username = line[0]\n",
    "password = line[1]\n",
    "print('- Finish importing the login credentials')\n",
    "sleep(5)"
   ]
  },
  {
   "cell_type": "code",
   "execution_count": 4,
   "metadata": {},
   "outputs": [
    {
     "name": "stderr",
     "output_type": "stream",
     "text": [
      "C:\\Users\\user\\AppData\\Local\\Temp\\ipykernel_5544\\266234707.py:2: DeprecationWarning: find_element_by_* commands are deprecated. Please use find_element() instead\n",
      "  email_field = driver.find_element_by_id('username')\n"
     ]
    },
    {
     "name": "stdout",
     "output_type": "stream",
     "text": [
      "- Finish keying in email\n"
     ]
    },
    {
     "name": "stderr",
     "output_type": "stream",
     "text": [
      "C:\\Users\\user\\AppData\\Local\\Temp\\ipykernel_5544\\266234707.py:7: DeprecationWarning: find_element_by_name is deprecated. Please use find_element(by=By.NAME, value=name) instead\n",
      "  password_field = driver.find_element_by_name('session_password')\n"
     ]
    },
    {
     "name": "stdout",
     "output_type": "stream",
     "text": [
      "- Finish keying in password\n"
     ]
    },
    {
     "name": "stderr",
     "output_type": "stream",
     "text": [
      "C:\\Users\\user\\AppData\\Local\\Temp\\ipykernel_5544\\266234707.py:13: DeprecationWarning: find_element_by_xpath is deprecated. Please use find_element(by=By.XPATH, value=xpath) instead\n",
      "  signin_field = driver.find_element_by_xpath('//*[@id=\"organic-div\"]/form/div[3]/button')\n"
     ]
    },
    {
     "name": "stdout",
     "output_type": "stream",
     "text": [
      "- Finish Task 1: Login to Linkedin\n"
     ]
    }
   ],
   "source": [
    "# Task 1.2: Key in login credentials\n",
    "email_field = driver.find_element_by_id('username')\n",
    "email_field.send_keys(username)\n",
    "print('- Finish keying in email')\n",
    "sleep(5)\n",
    "\n",
    "password_field = driver.find_element_by_name('session_password')\n",
    "password_field.send_keys(password)\n",
    "print('- Finish keying in password')\n",
    "sleep(5)\n",
    "\n",
    "# Task 1.2: Click the Login button\n",
    "signin_field = driver.find_element_by_xpath('//*[@id=\"organic-div\"]/form/div[3]/button')\n",
    "#signin_field = driver.find_element_by_xpath('//*[@id=\"app__container\"]/main/div[2]/form/div[3]/button')\n",
    "signin_field.click()\n",
    "sleep(10)\n",
    "\n",
    "print('- Finish Task 1: Login to Linkedin')"
   ]
  },
  {
   "cell_type": "code",
   "execution_count": 5,
   "metadata": {},
   "outputs": [],
   "source": [
    "#try:\n",
    "#    search_field = WebDriverWait(driver, 10).until(\n",
    "#        EC.presence_of_element_located(By.XPATH, value='//*[@id=\"global-nav-search\"]/div')\n",
    "#        )\n",
    "#finally:\n",
    "#   search_query = input('')\n",
    "#    search_field.send_keys(search_query)\n",
    "\n",
    "#    search_field.send_keys(Keys.RETURN)\n",
    "\n",
    "#    print('- Finish task2 : search compagny')\n",
    "#    driver.quit()"
   ]
  },
  {
   "cell_type": "code",
   "execution_count": 6,
   "metadata": {},
   "outputs": [
    {
     "name": "stderr",
     "output_type": "stream",
     "text": [
      "C:\\Users\\user\\AppData\\Local\\Temp\\ipykernel_5544\\1460282617.py:7: DeprecationWarning: find_element_by_xpath is deprecated. Please use find_element(by=By.XPATH, value=xpath) instead\n",
      "  search_field= driver.find_element_by_xpath(\"/html/body/div[7]/header/div/div/div/div[1]/input\")\n"
     ]
    },
    {
     "name": "stdout",
     "output_type": "stream",
     "text": [
      "- Finish Task 2: Search for profiles\n"
     ]
    }
   ],
   "source": [
    "# Task 2: Search for the profile we want to crawl\n",
    "from selenium.webdriver.common.keys import Keys\n",
    "\n",
    "\n",
    "# Task 2.1: Locate the search bar element\n",
    "#search_field = driver.find_element_by_xpath('//*[@id=\"ember16\"]/input')\n",
    "search_field= driver.find_element_by_xpath(\"/html/body/div[7]/header/div/div/div/div[1]/input\")\n",
    "#search_field = driver.find_element(By.XPATH, value='//*[@id=\"global-nav-search\"]/div')\n",
    "\n",
    "# Task 2.2: Input the search query to the search bar\n",
    "\n",
    "search_query = input('What profile do you want to scrape? ')\n",
    "search_field.send_keys(search_query)\n",
    "\n",
    "# Task 2.3: Search\n",
    "#search_field.send_keys(Keys.ENTER).click()\n",
    "search_field.send_keys(Keys.RETURN)\n",
    "\n",
    "print('- Finish Task 2: Search for profiles')"
   ]
  },
  {
   "cell_type": "code",
   "execution_count": 7,
   "metadata": {},
   "outputs": [],
   "source": [
    "# Task 3: Scrape the URLs of the profiles\n",
    "\n",
    "# Task 3.1: Write a function to extract the URLs of one page\n",
    "def GetURL():\n",
    "    page_source = BeautifulSoup(driver.page_source)\n",
    "    profiles = page_source.find_all('a', class_ = 'search-result__result-link ember-view')\n",
    "    all_profile_URL = []\n",
    "    for profile in profiles:\n",
    "        profile_ID = profile.get('href')\n",
    "        profile_URL = \"https://www.linkedin.com\" + profile_ID\n",
    "        if profile_URL not in all_profile_URL:\n",
    "            all_profile_URL.append(profile_URL)\n",
    "    return all_profile_URL"
   ]
  },
  {
   "cell_type": "code",
   "execution_count": 8,
   "metadata": {},
   "outputs": [
    {
     "name": "stderr",
     "output_type": "stream",
     "text": [
      "C:\\Users\\user\\AppData\\Local\\Temp\\ipykernel_5544\\106192277.py:8: DeprecationWarning: find_element_by_class_name is deprecated. Please use find_element(by=By.CLASS_NAME, value=name) instead\n",
      "  next_button = driver.find_element_by_class_name(\"artdeco-pagination__button--next\")\n"
     ]
    },
    {
     "name": "stdout",
     "output_type": "stream",
     "text": [
      "- Finish Task 3: Scrape the URLs\n"
     ]
    }
   ],
   "source": [
    "input_page = int(input('How many pages you want to scrape: '))\n",
    "URLs_all_page = []\n",
    "for page in range(input_page):\n",
    "    URLs_one_page = GetURL()\n",
    "    sleep(3)\n",
    "    driver.execute_script('window.scrollTo(0, document.body.scrollHeight);') #scroll to the end of the page\n",
    "    sleep(3)\n",
    "    next_button = driver.find_element_by_class_name(\"artdeco-pagination__button--next\")\n",
    "    #next_button = driver.find_element_by_class_name(\"artdeco-button__text--next\")\n",
    "    #next_button= driver.find_element_by_xpath(\"/html/body/div[7]/div[3]/div[2]/div/div[1]/main/div/div/div[5]/div/div/button[2]/span\")\n",
    "    driver.execute_script(\"arguments[0].click();\", next_button)\n",
    "    URLs_all_page = URLs_all_page + URLs_one_page\n",
    "    sleep(5)\n",
    "\n",
    "    \n",
    "print('- Finish Task 3: Scrape the URLs')"
   ]
  },
  {
   "cell_type": "code",
   "execution_count": 10,
   "metadata": {},
   "outputs": [
    {
     "name": "stdout",
     "output_type": "stream",
     "text": [
      "Mission Completed!\n"
     ]
    }
   ],
   "source": [
    "# Task 4: Scrape the data of 1 Linkedin profile, and write the data to a .CSV file\n",
    "\n",
    "#with open('output.csv', 'w',  newline = '') as file_output\n",
    "with open('output.csv','w',newline ='') as file_output:\n",
    "    headers = ['Name', 'Job Title', 'Location', 'URL']\n",
    "    writer = csv.DictWriter(file_output, delimiter=',', lineterminator='\\n',fieldnames=headers)\n",
    "    writer.writeheader()\n",
    "    for linkedin_URL in URLs_all_page:\n",
    "        driver.get(linkedin_URL)\n",
    "        print('- Accessing profile: ', linkedin_URL)\n",
    "\n",
    "        page_source = BeautifulSoup(driver.page_source, \"html.parser\")\n",
    "\n",
    "        info_div = page_source.find('div',{'class':'flex-1 mr5'})\n",
    "        info_loc = info_div.find_all('ul')  \n",
    "        name = info_loc[0].find('li').get_text().strip() #Remove unnecessary characters \n",
    "        print('--- Profile name is: ', name)\n",
    "        location = info_loc[1].find('li').get_text().strip() #Remove unnecessary characters \n",
    "        print('--- Profile location is: ', location)\n",
    "        title = info_div.find('h2').get_text().strip()\n",
    "        print('--- Profile title is: ', title)\n",
    "        writer.writerow({headers[0]:name, headers[1]:location, headers[2]:title, headers[3]:linkedin_URL})\n",
    "        print('\\n')\n",
    "\n",
    "print('Mission Completed!')"
   ]
  }
 ],
 "metadata": {
  "interpreter": {
   "hash": "38d51dd8e8d25c2b4859ddf5fde4d8615b38902fd48d30a19bf46ddb81d406a6"
  },
  "kernelspec": {
   "display_name": "Python 3.9.12 64-bit (windows store)",
   "language": "python",
   "name": "python3"
  },
  "language_info": {
   "codemirror_mode": {
    "name": "ipython",
    "version": 3
   },
   "file_extension": ".py",
   "mimetype": "text/x-python",
   "name": "python",
   "nbconvert_exporter": "python",
   "pygments_lexer": "ipython3",
   "version": "3.9.12"
  },
  "orig_nbformat": 4
 },
 "nbformat": 4,
 "nbformat_minor": 2
}
